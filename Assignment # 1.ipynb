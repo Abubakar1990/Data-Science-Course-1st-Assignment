{
 "cells": [
  {
   "cell_type": "markdown",
   "id": "fe333b16",
   "metadata": {},
   "source": [
    "# Question No.1"
   ]
  },
  {
   "cell_type": "code",
   "execution_count": 1,
   "id": "d72913bf",
   "metadata": {},
   "outputs": [
    {
     "name": "stdout",
     "output_type": "stream",
     "text": [
      "Twinkle, twinkle, little star,\n",
      " how I wonder what you are!,\n",
      " Up above the world so high,\n",
      " like a diamond in the sky,\n"
     ]
    }
   ],
   "source": [
    "print(\"Twinkle, twinkle, little star,\\n how I wonder what you are!,\\n Up above the world so high,\\n like a diamond in the sky,\")\n"
   ]
  },
  {
   "cell_type": "code",
   "execution_count": 2,
   "id": "df09a3ba",
   "metadata": {},
   "outputs": [
    {
     "name": "stdout",
     "output_type": "stream",
     "text": [
      "Twinkele, twinkle, little star,\n",
      " how I wonder what you are\n"
     ]
    }
   ],
   "source": [
    "print(\"Twinkele, twinkle, little star,\\n how I wonder what you are\")"
   ]
  },
  {
   "cell_type": "markdown",
   "id": "3c060043",
   "metadata": {},
   "source": [
    "# Question No.2"
   ]
  },
  {
   "cell_type": "code",
   "execution_count": 3,
   "id": "96f664dc",
   "metadata": {},
   "outputs": [
    {
     "data": {
      "text/plain": [
       "'3.8.8'"
      ]
     },
     "execution_count": 3,
     "metadata": {},
     "output_type": "execute_result"
    }
   ],
   "source": [
    "from platform import python_version\n",
    "python_version()\n"
   ]
  },
  {
   "cell_type": "markdown",
   "id": "88ec25fa",
   "metadata": {},
   "source": [
    "# Question No.3"
   ]
  },
  {
   "cell_type": "code",
   "execution_count": 4,
   "id": "0f2f2dbf",
   "metadata": {},
   "outputs": [
    {
     "name": "stdout",
     "output_type": "stream",
     "text": [
      "Current date and time : \n",
      "2022-01-01 17:27:37\n"
     ]
    }
   ],
   "source": [
    "import datetime\n",
    "now = datetime.datetime.now()\n",
    "print (\"Current date and time : \")\n",
    "print (now.strftime(\"%Y-%m-%d %H:%M:%S\"))\n"
   ]
  },
  {
   "cell_type": "markdown",
   "id": "b9d619f5",
   "metadata": {},
   "source": [
    "# Question No.4 not done"
   ]
  },
  {
   "cell_type": "markdown",
   "id": "5652feff",
   "metadata": {},
   "source": [
    "## Question No.5"
   ]
  },
  {
   "cell_type": "code",
   "execution_count": 5,
   "id": "806dd32a",
   "metadata": {},
   "outputs": [
    {
     "name": "stdout",
     "output_type": "stream",
     "text": [
      "ali\n",
      "hassan\n",
      "hassan ali\n"
     ]
    }
   ],
   "source": [
    "user_first_name = input()\n",
    "user_second_name = input()\n",
    "print(user_second_name, user_first_name)"
   ]
  },
  {
   "cell_type": "markdown",
   "id": "d3ab4929",
   "metadata": {},
   "source": [
    "# Question No.6"
   ]
  },
  {
   "cell_type": "code",
   "execution_count": 9,
   "id": "ce181c0f",
   "metadata": {},
   "outputs": [
    {
     "name": "stdout",
     "output_type": "stream",
     "text": [
      "12\n",
      "12\n",
      "24\n"
     ]
    }
   ],
   "source": [
    "user_num1 = int(input())\n",
    "user_num2 = int(input())\n",
    "print(user_num1 + user_num2)"
   ]
  },
  {
   "cell_type": "code",
   "execution_count": null,
   "id": "1851a0ce",
   "metadata": {},
   "outputs": [],
   "source": []
  }
 ],
 "metadata": {
  "kernelspec": {
   "display_name": "Python 3",
   "language": "python",
   "name": "python3"
  },
  "language_info": {
   "codemirror_mode": {
    "name": "ipython",
    "version": 3
   },
   "file_extension": ".py",
   "mimetype": "text/x-python",
   "name": "python",
   "nbconvert_exporter": "python",
   "pygments_lexer": "ipython3",
   "version": "3.8.8"
  }
 },
 "nbformat": 4,
 "nbformat_minor": 5
}
